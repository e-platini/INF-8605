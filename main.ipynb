{
 "cells": [
  {
   "cell_type": "code",
   "id": "initial_id",
   "metadata": {
    "collapsed": true,
    "ExecuteTime": {
     "end_time": "2024-09-15T17:25:42.305773500Z",
     "start_time": "2024-09-15T17:25:39.150227700Z"
    }
   },
   "source": [
    "from classication_dataset import ClassificationDataset, get_data_loaders as get_classif_data_loaders\n",
    "from segmentation_dataset import SegmentationDataset, get_data_loaders as get_seg_data_loaders\n",
    "from architectures.simple_CNN import SimpleCNN, train_model as train_classif_model\n",
    "from architectures.unet import Unet, train_model as train_seg_model\n",
    "import torch\n",
    "import numpy as np\n",
    "from sklearn.metrics import confusion_matrix, ConfusionMatrixDisplay\n",
    "import matplotlib.pyplot as plt\n",
    "from tqdm import tqdm\n",
    "from gradcamplpl import gradcamplpl_mask\n"
   ],
   "outputs": [],
   "execution_count": 1
  },
  {
   "cell_type": "code",
   "source": [
    "for i in range(torch.cuda.device_count()):\n",
    "   print(torch.cuda.get_device_properties(i).name)\n",
    "\n",
    "cuda_device = \"cuda:0\""
   ],
   "metadata": {
    "collapsed": false,
    "ExecuteTime": {
     "end_time": "2024-09-15T17:25:42.842715800Z",
     "start_time": "2024-09-15T17:25:42.836637300Z"
    }
   },
   "id": "4afed849210d7ba8",
   "outputs": [
    {
     "name": "stdout",
     "output_type": "stream",
     "text": [
      "NVIDIA RTX A1000 6GB Laptop GPU\n"
     ]
    }
   ],
   "execution_count": 2
  },
  {
   "cell_type": "code",
   "source": [
    "train_loader, val_loader, test_loader = get_classif_data_loaders(\n",
    "    img_dir=\"data/PANNUKE/images\",\n",
    "    \n",
    "    label_file=\"data/PANNUKE/labels/labels.npy\",\n",
    "    contiguous_ids_file=\"data/PANNUKE/labels/contiguous_ids.npy\",\n",
    "    \n",
    "    batch_size=64,\n",
    "    val_split=0.2,\n",
    "    test_split=0.1\n",
    ")"
   ],
   "metadata": {
    "collapsed": false,
    "ExecuteTime": {
     "end_time": "2024-09-15T17:24:51.857434500Z",
     "start_time": "2024-09-15T17:24:51.849699600Z"
    }
   },
   "id": "de82fb2ad4a5b86d",
   "outputs": [],
   "execution_count": 3
  },
  {
   "cell_type": "code",
   "source": [
    "model = SimpleCNN()"
   ],
   "metadata": {
    "collapsed": false,
    "ExecuteTime": {
     "end_time": "2024-09-15T17:24:52.105510200Z",
     "start_time": "2024-09-15T17:24:51.994981100Z"
    }
   },
   "id": "a2874870853c63be",
   "outputs": [],
   "execution_count": 4
  },
  {
   "cell_type": "code",
   "source": [
    "train_classif_model(model, train_loader, val_loader, cuda_device, learning_rate=0.001)"
   ],
   "metadata": {
    "collapsed": false,
    "ExecuteTime": {
     "end_time": "2024-09-13T12:24:31.303228Z",
     "start_time": "2024-09-13T12:22:32.851913Z"
    }
   },
   "id": "e9734b0389e61ef2",
   "outputs": [
    {
     "name": "stderr",
     "output_type": "stream",
     "text": [
      "Training for epoch 0: 100%|██████████| 23/23 [00:17<00:00,  1.32it/s]\n"
     ]
    },
    {
     "name": "stdout",
     "output_type": "stream",
     "text": [
      "Epoch 1/1000\n",
      "Train loss: 0.7633671941964523\n",
      "Val loss: 0.6926110823949178\n"
     ]
    },
    {
     "name": "stderr",
     "output_type": "stream",
     "text": [
      "Training for epoch 1: 100%|██████████| 23/23 [00:16<00:00,  1.37it/s]\n"
     ]
    },
    {
     "name": "stdout",
     "output_type": "stream",
     "text": [
      "Epoch 2/1000\n",
      "Train loss: 0.6936085250066675\n",
      "Val loss: 0.6931576225492689\n",
      "No progress on val loss was made, patience reduced to 2.\n"
     ]
    },
    {
     "name": "stderr",
     "output_type": "stream",
     "text": [
      "Training for epoch 2: 100%|██████████| 23/23 [00:17<00:00,  1.30it/s]\n"
     ]
    },
    {
     "name": "stdout",
     "output_type": "stream",
     "text": [
      "Epoch 3/1000\n",
      "Train loss: 0.6931565689003986\n",
      "Val loss: 0.6930937621328566\n",
      "No progress on val loss was made, patience reduced to 1.\n"
     ]
    },
    {
     "name": "stderr",
     "output_type": "stream",
     "text": [
      "Training for epoch 3: 100%|██████████| 23/23 [00:18<00:00,  1.27it/s]\n"
     ]
    },
    {
     "name": "stdout",
     "output_type": "stream",
     "text": [
      "Epoch 4/1000\n",
      "Train loss: 0.6932509126870529\n",
      "Val loss: 0.6930651836925082\n",
      "No progress on val loss was made, patience reduced to 0.\n",
      "Patience dropped to 0, changed learning rate to 0.0001.\n"
     ]
    },
    {
     "name": "stderr",
     "output_type": "stream",
     "text": [
      "Training for epoch 4: 100%|██████████| 23/23 [00:17<00:00,  1.28it/s]\n"
     ]
    },
    {
     "name": "stdout",
     "output_type": "stream",
     "text": [
      "Epoch 5/1000\n",
      "Train loss: 0.6931444251019022\n",
      "Val loss: 0.6930723163816664\n",
      "No progress on val loss was made, patience reduced to 2.\n"
     ]
    },
    {
     "name": "stderr",
     "output_type": "stream",
     "text": [
      "Training for epoch 5:  57%|█████▋    | 13/23 [00:10<00:08,  1.19it/s]\n"
     ]
    },
    {
     "ename": "KeyboardInterrupt",
     "evalue": "",
     "output_type": "error",
     "traceback": [
      "\u001B[0;31m---------------------------------------------------------------------------\u001B[0m",
      "\u001B[0;31mKeyboardInterrupt\u001B[0m                         Traceback (most recent call last)",
      "Cell \u001B[0;32mIn[5], line 1\u001B[0m\n\u001B[0;32m----> 1\u001B[0m \u001B[43mtrain_model\u001B[49m\u001B[43m(\u001B[49m\u001B[43mmodel\u001B[49m\u001B[43m,\u001B[49m\u001B[43m \u001B[49m\u001B[43mtrain_loader\u001B[49m\u001B[43m,\u001B[49m\u001B[43m \u001B[49m\u001B[43mval_loader\u001B[49m\u001B[43m,\u001B[49m\u001B[43m \u001B[49m\u001B[43mcuda_device\u001B[49m\u001B[43m,\u001B[49m\u001B[43m \u001B[49m\u001B[43mlearning_rate\u001B[49m\u001B[38;5;241;43m=\u001B[39;49m\u001B[38;5;241;43m0.001\u001B[39;49m\u001B[43m)\u001B[49m\n",
      "File \u001B[0;32m~/workspace/INF-8605/architectures/simple_CNN.py:95\u001B[0m, in \u001B[0;36mtrain_model\u001B[0;34m(model, train_loader, val_loader, cuda_device, model_save_path, learning_rate)\u001B[0m\n\u001B[1;32m     92\u001B[0m model\u001B[38;5;241m.\u001B[39mtrain()\n\u001B[1;32m     93\u001B[0m running_loss \u001B[38;5;241m=\u001B[39m \u001B[38;5;241m0.0\u001B[39m\n\u001B[0;32m---> 95\u001B[0m \u001B[38;5;28;01mfor\u001B[39;00m inputs, labels \u001B[38;5;129;01min\u001B[39;00m tqdm(train_loader, desc\u001B[38;5;241m=\u001B[39m\u001B[38;5;124mf\u001B[39m\u001B[38;5;124m\"\u001B[39m\u001B[38;5;124mTraining for epoch \u001B[39m\u001B[38;5;132;01m{\u001B[39;00mepoch\u001B[38;5;132;01m}\u001B[39;00m\u001B[38;5;124m\"\u001B[39m):\n\u001B[1;32m     96\u001B[0m     inputs \u001B[38;5;241m=\u001B[39m inputs\u001B[38;5;241m.\u001B[39mto(device)\n\u001B[1;32m     97\u001B[0m     labels \u001B[38;5;241m=\u001B[39m labels\u001B[38;5;241m.\u001B[39mto(device)\n",
      "File \u001B[0;32m~/workspace/venvs/venv310-INF-8605/lib/python3.10/site-packages/tqdm/std.py:1181\u001B[0m, in \u001B[0;36mtqdm.__iter__\u001B[0;34m(self)\u001B[0m\n\u001B[1;32m   1178\u001B[0m time \u001B[38;5;241m=\u001B[39m \u001B[38;5;28mself\u001B[39m\u001B[38;5;241m.\u001B[39m_time\n\u001B[1;32m   1180\u001B[0m \u001B[38;5;28;01mtry\u001B[39;00m:\n\u001B[0;32m-> 1181\u001B[0m     \u001B[38;5;28;01mfor\u001B[39;00m obj \u001B[38;5;129;01min\u001B[39;00m iterable:\n\u001B[1;32m   1182\u001B[0m         \u001B[38;5;28;01myield\u001B[39;00m obj\n\u001B[1;32m   1183\u001B[0m         \u001B[38;5;66;03m# Update and possibly print the progressbar.\u001B[39;00m\n\u001B[1;32m   1184\u001B[0m         \u001B[38;5;66;03m# Note: does not call self.update(1) for speed optimisation.\u001B[39;00m\n",
      "File \u001B[0;32m~/workspace/venvs/venv310-INF-8605/lib/python3.10/site-packages/torch/utils/data/dataloader.py:630\u001B[0m, in \u001B[0;36m_BaseDataLoaderIter.__next__\u001B[0;34m(self)\u001B[0m\n\u001B[1;32m    627\u001B[0m \u001B[38;5;28;01mif\u001B[39;00m \u001B[38;5;28mself\u001B[39m\u001B[38;5;241m.\u001B[39m_sampler_iter \u001B[38;5;129;01mis\u001B[39;00m \u001B[38;5;28;01mNone\u001B[39;00m:\n\u001B[1;32m    628\u001B[0m     \u001B[38;5;66;03m# TODO(https://github.com/pytorch/pytorch/issues/76750)\u001B[39;00m\n\u001B[1;32m    629\u001B[0m     \u001B[38;5;28mself\u001B[39m\u001B[38;5;241m.\u001B[39m_reset()  \u001B[38;5;66;03m# type: ignore[call-arg]\u001B[39;00m\n\u001B[0;32m--> 630\u001B[0m data \u001B[38;5;241m=\u001B[39m \u001B[38;5;28;43mself\u001B[39;49m\u001B[38;5;241;43m.\u001B[39;49m\u001B[43m_next_data\u001B[49m\u001B[43m(\u001B[49m\u001B[43m)\u001B[49m\n\u001B[1;32m    631\u001B[0m \u001B[38;5;28mself\u001B[39m\u001B[38;5;241m.\u001B[39m_num_yielded \u001B[38;5;241m+\u001B[39m\u001B[38;5;241m=\u001B[39m \u001B[38;5;241m1\u001B[39m\n\u001B[1;32m    632\u001B[0m \u001B[38;5;28;01mif\u001B[39;00m \u001B[38;5;28mself\u001B[39m\u001B[38;5;241m.\u001B[39m_dataset_kind \u001B[38;5;241m==\u001B[39m _DatasetKind\u001B[38;5;241m.\u001B[39mIterable \u001B[38;5;129;01mand\u001B[39;00m \\\n\u001B[1;32m    633\u001B[0m         \u001B[38;5;28mself\u001B[39m\u001B[38;5;241m.\u001B[39m_IterableDataset_len_called \u001B[38;5;129;01mis\u001B[39;00m \u001B[38;5;129;01mnot\u001B[39;00m \u001B[38;5;28;01mNone\u001B[39;00m \u001B[38;5;129;01mand\u001B[39;00m \\\n\u001B[1;32m    634\u001B[0m         \u001B[38;5;28mself\u001B[39m\u001B[38;5;241m.\u001B[39m_num_yielded \u001B[38;5;241m>\u001B[39m \u001B[38;5;28mself\u001B[39m\u001B[38;5;241m.\u001B[39m_IterableDataset_len_called:\n",
      "File \u001B[0;32m~/workspace/venvs/venv310-INF-8605/lib/python3.10/site-packages/torch/utils/data/dataloader.py:673\u001B[0m, in \u001B[0;36m_SingleProcessDataLoaderIter._next_data\u001B[0;34m(self)\u001B[0m\n\u001B[1;32m    671\u001B[0m \u001B[38;5;28;01mdef\u001B[39;00m \u001B[38;5;21m_next_data\u001B[39m(\u001B[38;5;28mself\u001B[39m):\n\u001B[1;32m    672\u001B[0m     index \u001B[38;5;241m=\u001B[39m \u001B[38;5;28mself\u001B[39m\u001B[38;5;241m.\u001B[39m_next_index()  \u001B[38;5;66;03m# may raise StopIteration\u001B[39;00m\n\u001B[0;32m--> 673\u001B[0m     data \u001B[38;5;241m=\u001B[39m \u001B[38;5;28;43mself\u001B[39;49m\u001B[38;5;241;43m.\u001B[39;49m\u001B[43m_dataset_fetcher\u001B[49m\u001B[38;5;241;43m.\u001B[39;49m\u001B[43mfetch\u001B[49m\u001B[43m(\u001B[49m\u001B[43mindex\u001B[49m\u001B[43m)\u001B[49m  \u001B[38;5;66;03m# may raise StopIteration\u001B[39;00m\n\u001B[1;32m    674\u001B[0m     \u001B[38;5;28;01mif\u001B[39;00m \u001B[38;5;28mself\u001B[39m\u001B[38;5;241m.\u001B[39m_pin_memory:\n\u001B[1;32m    675\u001B[0m         data \u001B[38;5;241m=\u001B[39m _utils\u001B[38;5;241m.\u001B[39mpin_memory\u001B[38;5;241m.\u001B[39mpin_memory(data, \u001B[38;5;28mself\u001B[39m\u001B[38;5;241m.\u001B[39m_pin_memory_device)\n",
      "File \u001B[0;32m~/workspace/venvs/venv310-INF-8605/lib/python3.10/site-packages/torch/utils/data/_utils/fetch.py:55\u001B[0m, in \u001B[0;36m_MapDatasetFetcher.fetch\u001B[0;34m(self, possibly_batched_index)\u001B[0m\n\u001B[1;32m     53\u001B[0m \u001B[38;5;28;01melse\u001B[39;00m:\n\u001B[1;32m     54\u001B[0m     data \u001B[38;5;241m=\u001B[39m \u001B[38;5;28mself\u001B[39m\u001B[38;5;241m.\u001B[39mdataset[possibly_batched_index]\n\u001B[0;32m---> 55\u001B[0m \u001B[38;5;28;01mreturn\u001B[39;00m \u001B[38;5;28;43mself\u001B[39;49m\u001B[38;5;241;43m.\u001B[39;49m\u001B[43mcollate_fn\u001B[49m\u001B[43m(\u001B[49m\u001B[43mdata\u001B[49m\u001B[43m)\u001B[49m\n",
      "File \u001B[0;32m~/workspace/venvs/venv310-INF-8605/lib/python3.10/site-packages/torch/utils/data/_utils/collate.py:317\u001B[0m, in \u001B[0;36mdefault_collate\u001B[0;34m(batch)\u001B[0m\n\u001B[1;32m    256\u001B[0m \u001B[38;5;28;01mdef\u001B[39;00m \u001B[38;5;21mdefault_collate\u001B[39m(batch):\n\u001B[1;32m    257\u001B[0m \u001B[38;5;250m    \u001B[39m\u001B[38;5;124mr\u001B[39m\u001B[38;5;124;03m\"\"\"\u001B[39;00m\n\u001B[1;32m    258\u001B[0m \u001B[38;5;124;03m    Take in a batch of data and put the elements within the batch into a tensor with an additional outer dimension - batch size.\u001B[39;00m\n\u001B[1;32m    259\u001B[0m \n\u001B[0;32m   (...)\u001B[0m\n\u001B[1;32m    315\u001B[0m \u001B[38;5;124;03m        >>> default_collate(batch)  # Handle `CustomType` automatically\u001B[39;00m\n\u001B[1;32m    316\u001B[0m \u001B[38;5;124;03m    \"\"\"\u001B[39;00m\n\u001B[0;32m--> 317\u001B[0m     \u001B[38;5;28;01mreturn\u001B[39;00m \u001B[43mcollate\u001B[49m\u001B[43m(\u001B[49m\u001B[43mbatch\u001B[49m\u001B[43m,\u001B[49m\u001B[43m \u001B[49m\u001B[43mcollate_fn_map\u001B[49m\u001B[38;5;241;43m=\u001B[39;49m\u001B[43mdefault_collate_fn_map\u001B[49m\u001B[43m)\u001B[49m\n",
      "File \u001B[0;32m~/workspace/venvs/venv310-INF-8605/lib/python3.10/site-packages/torch/utils/data/_utils/collate.py:174\u001B[0m, in \u001B[0;36mcollate\u001B[0;34m(batch, collate_fn_map)\u001B[0m\n\u001B[1;32m    171\u001B[0m transposed \u001B[38;5;241m=\u001B[39m \u001B[38;5;28mlist\u001B[39m(\u001B[38;5;28mzip\u001B[39m(\u001B[38;5;241m*\u001B[39mbatch))  \u001B[38;5;66;03m# It may be accessed twice, so we use a list.\u001B[39;00m\n\u001B[1;32m    173\u001B[0m \u001B[38;5;28;01mif\u001B[39;00m \u001B[38;5;28misinstance\u001B[39m(elem, \u001B[38;5;28mtuple\u001B[39m):\n\u001B[0;32m--> 174\u001B[0m     \u001B[38;5;28;01mreturn\u001B[39;00m [collate(samples, collate_fn_map\u001B[38;5;241m=\u001B[39mcollate_fn_map) \u001B[38;5;28;01mfor\u001B[39;00m samples \u001B[38;5;129;01min\u001B[39;00m transposed]  \u001B[38;5;66;03m# Backwards compatibility.\u001B[39;00m\n\u001B[1;32m    175\u001B[0m \u001B[38;5;28;01melse\u001B[39;00m:\n\u001B[1;32m    176\u001B[0m     \u001B[38;5;28;01mtry\u001B[39;00m:\n",
      "File \u001B[0;32m~/workspace/venvs/venv310-INF-8605/lib/python3.10/site-packages/torch/utils/data/_utils/collate.py:174\u001B[0m, in \u001B[0;36m<listcomp>\u001B[0;34m(.0)\u001B[0m\n\u001B[1;32m    171\u001B[0m transposed \u001B[38;5;241m=\u001B[39m \u001B[38;5;28mlist\u001B[39m(\u001B[38;5;28mzip\u001B[39m(\u001B[38;5;241m*\u001B[39mbatch))  \u001B[38;5;66;03m# It may be accessed twice, so we use a list.\u001B[39;00m\n\u001B[1;32m    173\u001B[0m \u001B[38;5;28;01mif\u001B[39;00m \u001B[38;5;28misinstance\u001B[39m(elem, \u001B[38;5;28mtuple\u001B[39m):\n\u001B[0;32m--> 174\u001B[0m     \u001B[38;5;28;01mreturn\u001B[39;00m [\u001B[43mcollate\u001B[49m\u001B[43m(\u001B[49m\u001B[43msamples\u001B[49m\u001B[43m,\u001B[49m\u001B[43m \u001B[49m\u001B[43mcollate_fn_map\u001B[49m\u001B[38;5;241;43m=\u001B[39;49m\u001B[43mcollate_fn_map\u001B[49m\u001B[43m)\u001B[49m \u001B[38;5;28;01mfor\u001B[39;00m samples \u001B[38;5;129;01min\u001B[39;00m transposed]  \u001B[38;5;66;03m# Backwards compatibility.\u001B[39;00m\n\u001B[1;32m    175\u001B[0m \u001B[38;5;28;01melse\u001B[39;00m:\n\u001B[1;32m    176\u001B[0m     \u001B[38;5;28;01mtry\u001B[39;00m:\n",
      "File \u001B[0;32m~/workspace/venvs/venv310-INF-8605/lib/python3.10/site-packages/torch/utils/data/_utils/collate.py:142\u001B[0m, in \u001B[0;36mcollate\u001B[0;34m(batch, collate_fn_map)\u001B[0m\n\u001B[1;32m    140\u001B[0m \u001B[38;5;28;01mif\u001B[39;00m collate_fn_map \u001B[38;5;129;01mis\u001B[39;00m \u001B[38;5;129;01mnot\u001B[39;00m \u001B[38;5;28;01mNone\u001B[39;00m:\n\u001B[1;32m    141\u001B[0m     \u001B[38;5;28;01mif\u001B[39;00m elem_type \u001B[38;5;129;01min\u001B[39;00m collate_fn_map:\n\u001B[0;32m--> 142\u001B[0m         \u001B[38;5;28;01mreturn\u001B[39;00m \u001B[43mcollate_fn_map\u001B[49m\u001B[43m[\u001B[49m\u001B[43melem_type\u001B[49m\u001B[43m]\u001B[49m\u001B[43m(\u001B[49m\u001B[43mbatch\u001B[49m\u001B[43m,\u001B[49m\u001B[43m \u001B[49m\u001B[43mcollate_fn_map\u001B[49m\u001B[38;5;241;43m=\u001B[39;49m\u001B[43mcollate_fn_map\u001B[49m\u001B[43m)\u001B[49m\n\u001B[1;32m    144\u001B[0m     \u001B[38;5;28;01mfor\u001B[39;00m collate_type \u001B[38;5;129;01min\u001B[39;00m collate_fn_map:\n\u001B[1;32m    145\u001B[0m         \u001B[38;5;28;01mif\u001B[39;00m \u001B[38;5;28misinstance\u001B[39m(elem, collate_type):\n",
      "File \u001B[0;32m~/workspace/venvs/venv310-INF-8605/lib/python3.10/site-packages/torch/utils/data/_utils/collate.py:214\u001B[0m, in \u001B[0;36mcollate_tensor_fn\u001B[0;34m(batch, collate_fn_map)\u001B[0m\n\u001B[1;32m    212\u001B[0m     storage \u001B[38;5;241m=\u001B[39m elem\u001B[38;5;241m.\u001B[39m_typed_storage()\u001B[38;5;241m.\u001B[39m_new_shared(numel, device\u001B[38;5;241m=\u001B[39melem\u001B[38;5;241m.\u001B[39mdevice)\n\u001B[1;32m    213\u001B[0m     out \u001B[38;5;241m=\u001B[39m elem\u001B[38;5;241m.\u001B[39mnew(storage)\u001B[38;5;241m.\u001B[39mresize_(\u001B[38;5;28mlen\u001B[39m(batch), \u001B[38;5;241m*\u001B[39m\u001B[38;5;28mlist\u001B[39m(elem\u001B[38;5;241m.\u001B[39msize()))\n\u001B[0;32m--> 214\u001B[0m \u001B[38;5;28;01mreturn\u001B[39;00m \u001B[43mtorch\u001B[49m\u001B[38;5;241;43m.\u001B[39;49m\u001B[43mstack\u001B[49m\u001B[43m(\u001B[49m\u001B[43mbatch\u001B[49m\u001B[43m,\u001B[49m\u001B[43m \u001B[49m\u001B[38;5;241;43m0\u001B[39;49m\u001B[43m,\u001B[49m\u001B[43m \u001B[49m\u001B[43mout\u001B[49m\u001B[38;5;241;43m=\u001B[39;49m\u001B[43mout\u001B[49m\u001B[43m)\u001B[49m\n",
      "\u001B[0;31mKeyboardInterrupt\u001B[0m: "
     ]
    }
   ],
   "execution_count": 5
  },
  {
   "cell_type": "code",
   "source": [
    "trained_model_path = \"models/simple_CNN_46\"\n",
    "model = SimpleCNN()\n",
    "model.load_state_dict(torch.load(trained_model_path, weights_only=True))\n",
    "model.eval()\n",
    "model.to(torch.device(cuda_device))"
   ],
   "metadata": {
    "collapsed": false,
    "ExecuteTime": {
     "end_time": "2024-09-15T16:37:35.742463100Z",
     "start_time": "2024-09-15T16:37:35.463429400Z"
    }
   },
   "id": "4d93b83817c6cec3",
   "outputs": [
    {
     "data": {
      "text/plain": "SimpleCNN(\n  (conv1): Conv2d(3, 16, kernel_size=(3, 3), stride=(1, 1), padding=(1, 1))\n  (bn1): BatchNorm2d(16, eps=1e-05, momentum=0.1, affine=True, track_running_stats=True)\n  (conv2): Conv2d(16, 32, kernel_size=(3, 3), stride=(1, 1), padding=(1, 1))\n  (bn2): BatchNorm2d(32, eps=1e-05, momentum=0.1, affine=True, track_running_stats=True)\n  (pool1): MaxPool2d(kernel_size=2, stride=2, padding=0, dilation=1, ceil_mode=False)\n  (conv3): Conv2d(32, 64, kernel_size=(3, 3), stride=(1, 1), padding=(1, 1))\n  (bn3): BatchNorm2d(64, eps=1e-05, momentum=0.1, affine=True, track_running_stats=True)\n  (conv4): Conv2d(64, 128, kernel_size=(3, 3), stride=(1, 1), padding=(1, 1))\n  (bn4): BatchNorm2d(128, eps=1e-05, momentum=0.1, affine=True, track_running_stats=True)\n  (pool2): MaxPool2d(kernel_size=2, stride=2, padding=0, dilation=1, ceil_mode=False)\n  (conv5): Conv2d(128, 256, kernel_size=(3, 3), stride=(1, 1), padding=(1, 1))\n  (bn5): BatchNorm2d(256, eps=1e-05, momentum=0.1, affine=True, track_running_stats=True)\n  (conv6): Conv2d(256, 512, kernel_size=(3, 3), stride=(1, 1), padding=(1, 1))\n  (bn6): BatchNorm2d(512, eps=1e-05, momentum=0.1, affine=True, track_running_stats=True)\n  (pool3): MaxPool2d(kernel_size=2, stride=2, padding=0, dilation=1, ceil_mode=False)\n  (pool4): MaxPool2d(kernel_size=2, stride=2, padding=0, dilation=1, ceil_mode=False)\n  (fc1): Linear(in_features=131072, out_features=256, bias=True)\n  (dropout): Dropout(p=0.5, inplace=False)\n  (fc2): Linear(in_features=256, out_features=2, bias=True)\n)"
     },
     "execution_count": 5,
     "metadata": {},
     "output_type": "execute_result"
    }
   ],
   "execution_count": 5
  },
  {
   "cell_type": "code",
   "source": [
    "\n",
    "model.eval()  # Set the model to evaluation mode\n",
    "correct = 0\n",
    "total = 0\n",
    "device = torch.device(cuda_device)\n",
    "all_predictions = []\n",
    "all_labels = []\n",
    "all_inputs_tensors = []\n",
    "\n",
    "    \n",
    "# Disabling gradient calculation for evaluation\n",
    "with torch.no_grad():\n",
    "    for inputs, labels, _ in test_loader:\n",
    "        inputs, labels = inputs.to(device), labels.to(device)\n",
    "\n",
    "        # Forward pass\n",
    "        outputs = model(inputs)\n",
    "\n",
    "        # Get predicted class (the one with the highest score)\n",
    "        _, predicted = torch.max(outputs, 1)\n",
    "\n",
    "        # Update the total number of samples and correct predictions\n",
    "        total += labels.size(0)\n",
    "        correct += (predicted == labels).sum().item()\n",
    "        \n",
    "        all_labels.append(labels.cpu().numpy())\n",
    "        all_predictions.append(predicted.cpu().numpy())\n",
    "        all_inputs_tensors.append(inputs.cpu().numpy())\n",
    "\n",
    "# Flatten the lists to arrays\n",
    "all_predictions = np.concatenate(all_predictions)\n",
    "all_labels = np.concatenate(all_labels)\n",
    "all_inputs_tensors = np.concatenate(all_inputs_tensors)\n",
    "\n",
    "# Calculate accuracy\n",
    "accuracy = 100 * correct / total\n",
    "print(f'Accuracy on test set: {accuracy:.2f}%')\n",
    "\n",
    "cm = confusion_matrix(all_labels, all_predictions)\n",
    "\n",
    "disp = ConfusionMatrixDisplay(confusion_matrix=cm, display_labels=['Absent', 'Present'])\n",
    "disp.plot(cmap=plt.cm.Blues)\n",
    "plt.title(\"Confusion Matrix\")\n",
    "plt.show()"
   ],
   "metadata": {
    "collapsed": false,
    "ExecuteTime": {
     "end_time": "2024-09-15T09:33:17.095619100Z",
     "start_time": "2024-09-15T09:33:15.546924700Z"
    }
   },
   "id": "11d0d01924850ced",
   "outputs": [
    {
     "name": "stdout",
     "output_type": "stream",
     "text": [
      "Accuracy on test set: 73.50%\n"
     ]
    },
    {
     "data": {
      "text/plain": "<Figure size 640x480 with 2 Axes>",
      "image/png": "[encoded data removed]"
     },
     "metadata": {},
     "output_type": "display_data"
    }
   ],
   "execution_count": 6
  },
  {
   "cell_type": "code",
   "source": [
    "print(model)"
   ],
   "metadata": {
    "collapsed": false,
    "ExecuteTime": {
     "end_time": "2024-09-15T16:33:10.219777700Z",
     "start_time": "2024-09-15T16:33:10.216910800Z"
    }
   },
   "id": "7a2c81db772cf63e",
   "outputs": [
    {
     "name": "stdout",
     "output_type": "stream",
     "text": [
      "SimpleCNN(\n",
      "  (conv1): Conv2d(3, 16, kernel_size=(3, 3), stride=(1, 1), padding=(1, 1))\n",
      "  (bn1): BatchNorm2d(16, eps=1e-05, momentum=0.1, affine=True, track_running_stats=True)\n",
      "  (conv2): Conv2d(16, 32, kernel_size=(3, 3), stride=(1, 1), padding=(1, 1))\n",
      "  (bn2): BatchNorm2d(32, eps=1e-05, momentum=0.1, affine=True, track_running_stats=True)\n",
      "  (pool1): MaxPool2d(kernel_size=2, stride=2, padding=0, dilation=1, ceil_mode=False)\n",
      "  (conv3): Conv2d(32, 64, kernel_size=(3, 3), stride=(1, 1), padding=(1, 1))\n",
      "  (bn3): BatchNorm2d(64, eps=1e-05, momentum=0.1, affine=True, track_running_stats=True)\n",
      "  (conv4): Conv2d(64, 128, kernel_size=(3, 3), stride=(1, 1), padding=(1, 1))\n",
      "  (bn4): BatchNorm2d(128, eps=1e-05, momentum=0.1, affine=True, track_running_stats=True)\n",
      "  (pool2): MaxPool2d(kernel_size=2, stride=2, padding=0, dilation=1, ceil_mode=False)\n",
      "  (conv5): Conv2d(128, 256, kernel_size=(3, 3), stride=(1, 1), padding=(1, 1))\n",
      "  (bn5): BatchNorm2d(256, eps=1e-05, momentum=0.1, affine=True, track_running_stats=True)\n",
      "  (conv6): Conv2d(256, 512, kernel_size=(3, 3), stride=(1, 1), padding=(1, 1))\n",
      "  (bn6): BatchNorm2d(512, eps=1e-05, momentum=0.1, affine=True, track_running_stats=True)\n",
      "  (pool3): MaxPool2d(kernel_size=2, stride=2, padding=0, dilation=1, ceil_mode=False)\n",
      "  (pool4): MaxPool2d(kernel_size=2, stride=2, padding=0, dilation=1, ceil_mode=False)\n",
      "  (fc1): Linear(in_features=131072, out_features=256, bias=True)\n",
      "  (dropout): Dropout(p=0.5, inplace=False)\n",
      "  (fc2): Linear(in_features=256, out_features=2, bias=True)\n",
      ")\n"
     ]
    }
   ],
   "execution_count": 6
  },
  {
   "cell_type": "code",
   "outputs": [
    {
     "name": "stderr",
     "output_type": "stream",
     "text": [
      "  0%|          | 0/4 [00:00<?, ?it/s]\n",
      "  0%|          | 0/64 [00:00<?, ?it/s]\u001B[A\n",
      "  2%|▏         | 1/64 [00:04<04:25,  4.21s/it]\u001B[A\n",
      "  3%|▎         | 2/64 [00:08<04:31,  4.38s/it]\u001B[A\n",
      "  5%|▍         | 3/64 [00:12<04:24,  4.33s/it]\u001B[A\n",
      "  6%|▋         | 4/64 [00:17<04:24,  4.40s/it]\u001B[A\n",
      "  8%|▊         | 5/64 [00:21<04:21,  4.43s/it]\u001B[A\n",
      "  9%|▉         | 6/64 [00:25<04:07,  4.27s/it]\u001B[A\n",
      " 11%|█         | 7/64 [00:30<04:05,  4.31s/it]\u001B[A\n",
      " 12%|█▎        | 8/64 [00:35<04:10,  4.48s/it]\u001B[A\n",
      " 14%|█▍        | 9/64 [00:39<04:08,  4.51s/it]\u001B[A\n",
      " 16%|█▌        | 10/64 [00:44<04:03,  4.51s/it]\u001B[A\n",
      " 17%|█▋        | 11/64 [00:48<03:54,  4.43s/it]\u001B[A\n",
      " 19%|█▉        | 12/64 [00:53<03:52,  4.47s/it]\u001B[A\n",
      " 20%|██        | 13/64 [00:58<03:59,  4.70s/it]\u001B[A\n",
      " 22%|██▏       | 14/64 [01:09<05:29,  6.58s/it]\u001B[A\n",
      " 23%|██▎       | 15/64 [01:18<06:03,  7.42s/it]\u001B[A\n",
      " 25%|██▌       | 16/64 [01:28<06:33,  8.20s/it]\u001B[A\n",
      " 27%|██▋       | 17/64 [01:37<06:29,  8.29s/it]\u001B[A\n",
      " 28%|██▊       | 18/64 [01:45<06:24,  8.36s/it]\u001B[A\n",
      " 30%|██▉       | 19/64 [01:52<06:02,  8.05s/it]\u001B[A\n",
      " 31%|███▏      | 20/64 [01:57<05:05,  6.94s/it]\u001B[A\n",
      " 33%|███▎      | 21/64 [02:01<04:26,  6.19s/it]\u001B[A\n",
      " 34%|███▍      | 22/64 [02:06<03:58,  5.69s/it]\u001B[A\n",
      " 36%|███▌      | 23/64 [02:10<03:34,  5.23s/it]\u001B[A\n",
      " 38%|███▊      | 24/64 [02:18<04:01,  6.04s/it]\u001B[A\n",
      " 39%|███▉      | 25/64 [02:27<04:26,  6.83s/it]\u001B[A\n",
      " 41%|████      | 26/64 [02:33<04:18,  6.81s/it]\u001B[A\n",
      " 42%|████▏     | 27/64 [02:38<03:43,  6.05s/it]\u001B[A\n",
      " 44%|████▍     | 28/64 [02:42<03:20,  5.57s/it]\u001B[A\n",
      " 45%|████▌     | 29/64 [02:47<03:04,  5.27s/it]\u001B[A\n",
      " 47%|████▋     | 30/64 [02:51<02:47,  4.93s/it]\u001B[A\n",
      " 48%|████▊     | 31/64 [02:55<02:39,  4.84s/it]\u001B[A\n",
      " 50%|█████     | 32/64 [03:00<02:29,  4.67s/it]\u001B[A\n",
      " 52%|█████▏    | 33/64 [03:04<02:25,  4.68s/it]\u001B[A\n",
      " 53%|█████▎    | 34/64 [03:09<02:18,  4.63s/it]\u001B[A\n",
      " 55%|█████▍    | 35/64 [03:13<02:10,  4.51s/it]\u001B[A\n",
      " 56%|█████▋    | 36/64 [03:18<02:07,  4.56s/it]\u001B[A\n",
      " 58%|█████▊    | 37/64 [03:22<02:01,  4.51s/it]\u001B[A\n",
      " 59%|█████▉    | 38/64 [03:26<01:55,  4.46s/it]\u001B[A\n",
      " 61%|██████    | 39/64 [03:31<01:51,  4.48s/it]\u001B[A\n",
      " 62%|██████▎   | 40/64 [03:35<01:47,  4.47s/it]\u001B[A\n",
      " 64%|██████▍   | 41/64 [03:40<01:42,  4.44s/it]\u001B[A\n",
      " 66%|██████▌   | 42/64 [03:44<01:38,  4.46s/it]\u001B[A\n",
      " 67%|██████▋   | 43/64 [03:49<01:33,  4.44s/it]\u001B[A\n",
      " 69%|██████▉   | 44/64 [03:53<01:29,  4.46s/it]\u001B[A\n",
      " 70%|███████   | 45/64 [03:58<01:25,  4.48s/it]\u001B[A\n",
      " 72%|███████▏  | 46/64 [04:03<01:22,  4.58s/it]\u001B[A\n",
      " 73%|███████▎  | 47/64 [04:07<01:16,  4.51s/it]\u001B[A\n",
      " 75%|███████▌  | 48/64 [04:11<01:12,  4.50s/it]\u001B[A\n",
      " 77%|███████▋  | 49/64 [04:16<01:09,  4.61s/it]\u001B[A\n",
      " 78%|███████▊  | 50/64 [04:21<01:03,  4.57s/it]\u001B[A\n",
      " 80%|███████▉  | 51/64 [04:25<00:58,  4.50s/it]\u001B[A\n",
      " 81%|████████▏ | 52/64 [04:29<00:53,  4.47s/it]\u001B[A\n",
      " 83%|████████▎ | 53/64 [04:34<00:48,  4.39s/it]\u001B[A\n",
      " 84%|████████▍ | 54/64 [04:38<00:43,  4.38s/it]\u001B[A\n",
      " 86%|████████▌ | 55/64 [04:42<00:39,  4.41s/it]\u001B[A\n",
      " 88%|████████▊ | 56/64 [04:47<00:36,  4.51s/it]\u001B[A\n",
      " 89%|████████▉ | 57/64 [04:52<00:31,  4.52s/it]\u001B[A\n",
      " 91%|█████████ | 58/64 [04:56<00:27,  4.55s/it]\u001B[A\n",
      " 92%|█████████▏| 59/64 [05:01<00:22,  4.56s/it]\u001B[A\n",
      " 94%|█████████▍| 60/64 [05:05<00:18,  4.53s/it]\u001B[A\n",
      " 95%|█████████▌| 61/64 [05:10<00:13,  4.46s/it]\u001B[A\n",
      " 97%|█████████▋| 62/64 [05:14<00:08,  4.45s/it]\u001B[A\n",
      " 98%|█████████▊| 63/64 [05:19<00:04,  4.45s/it]\u001B[A\n",
      "100%|██████████| 64/64 [05:23<00:00,  5.05s/it]\u001B[A\n",
      " 25%|██▌       | 1/4 [05:23<16:10, 323.59s/it]\n",
      "  0%|          | 0/64 [00:00<?, ?it/s]\u001B[A\n",
      "  2%|▏         | 1/64 [00:04<04:54,  4.67s/it]\u001B[A\n",
      "  3%|▎         | 2/64 [00:09<04:48,  4.66s/it]\u001B[A\n",
      "  5%|▍         | 3/64 [00:13<04:37,  4.55s/it]\u001B[A\n",
      "  6%|▋         | 4/64 [00:18<04:31,  4.52s/it]\u001B[A\n",
      "  8%|▊         | 5/64 [00:22<04:21,  4.43s/it]\u001B[A\n",
      "  9%|▉         | 6/64 [00:26<04:18,  4.46s/it]\u001B[A\n",
      " 11%|█         | 7/64 [00:31<04:18,  4.54s/it]\u001B[A\n",
      " 12%|█▎        | 8/64 [00:36<04:14,  4.55s/it]\u001B[A\n",
      " 14%|█▍        | 9/64 [00:40<04:08,  4.51s/it]\u001B[A\n",
      " 16%|█▌        | 10/64 [00:44<03:59,  4.43s/it]\u001B[A\n",
      " 17%|█▋        | 11/64 [00:49<03:57,  4.48s/it]\u001B[A\n",
      " 19%|█▉        | 12/64 [00:53<03:50,  4.43s/it]\u001B[A\n",
      " 20%|██        | 13/64 [00:58<03:51,  4.54s/it]\u001B[A\n",
      " 22%|██▏       | 14/64 [01:03<03:46,  4.54s/it]\u001B[A\n",
      " 23%|██▎       | 15/64 [01:07<03:33,  4.36s/it]\u001B[A\n",
      " 25%|██▌       | 16/64 [01:12<03:36,  4.52s/it]\u001B[A\n",
      " 27%|██▋       | 17/64 [01:16<03:32,  4.52s/it]\u001B[A\n",
      " 28%|██▊       | 18/64 [01:23<03:57,  5.17s/it]\u001B[A\n",
      " 30%|██▉       | 19/64 [01:27<03:42,  4.94s/it]\u001B[A\n",
      " 31%|███▏      | 20/64 [01:32<03:32,  4.84s/it]\u001B[A\n",
      " 33%|███▎      | 21/64 [01:40<04:13,  5.90s/it]\u001B[A\n",
      " 34%|███▍      | 22/64 [01:51<05:05,  7.28s/it]\u001B[A\n",
      " 36%|███▌      | 23/64 [01:58<04:57,  7.25s/it]\u001B[A\n",
      " 38%|███▊      | 24/64 [02:03<04:22,  6.57s/it]\u001B[A\n",
      " 39%|███▉      | 25/64 [02:07<03:54,  6.00s/it]\u001B[A\n",
      " 41%|████      | 26/64 [02:12<03:33,  5.62s/it]\u001B[A\n",
      " 42%|████▏     | 27/64 [02:17<03:17,  5.35s/it]\u001B[A\n",
      " 44%|████▍     | 28/64 [02:21<03:04,  5.12s/it]\u001B[A\n",
      " 45%|████▌     | 29/64 [02:26<02:52,  4.93s/it]\u001B[A\n",
      " 47%|████▋     | 30/64 [02:31<02:45,  4.85s/it]\u001B[A\n",
      " 48%|████▊     | 31/64 [02:35<02:38,  4.81s/it]\u001B[A\n",
      " 50%|█████     | 32/64 [02:40<02:29,  4.67s/it]\u001B[A\n",
      " 52%|█████▏    | 33/64 [02:44<02:25,  4.70s/it]\u001B[A\n",
      " 53%|█████▎    | 34/64 [02:49<02:21,  4.72s/it]\u001B[A\n",
      " 55%|█████▍    | 35/64 [02:53<02:10,  4.51s/it]\u001B[A\n",
      " 56%|█████▋    | 36/64 [02:58<02:04,  4.45s/it]\u001B[A\n",
      " 58%|█████▊    | 37/64 [03:02<01:59,  4.41s/it]\u001B[A\n",
      " 59%|█████▉    | 38/64 [03:06<01:54,  4.39s/it]\u001B[A\n",
      " 61%|██████    | 39/64 [03:11<01:49,  4.40s/it]\u001B[A\n",
      " 62%|██████▎   | 40/64 [03:15<01:45,  4.40s/it]\u001B[A\n",
      " 64%|██████▍   | 41/64 [03:20<01:41,  4.42s/it]\u001B[A\n",
      " 66%|██████▌   | 42/64 [03:24<01:39,  4.51s/it]\u001B[A\n",
      " 67%|██████▋   | 43/64 [03:29<01:34,  4.48s/it]\u001B[A\n",
      " 69%|██████▉   | 44/64 [03:33<01:29,  4.48s/it]\u001B[A\n",
      " 70%|███████   | 45/64 [03:38<01:25,  4.48s/it]\u001B[A\n",
      " 72%|███████▏  | 46/64 [03:42<01:19,  4.42s/it]\u001B[A\n",
      " 73%|███████▎  | 47/64 [03:47<01:17,  4.56s/it]\u001B[A\n",
      " 75%|███████▌  | 48/64 [03:51<01:12,  4.54s/it]\u001B[A\n",
      " 77%|███████▋  | 49/64 [03:56<01:07,  4.48s/it]\u001B[A\n",
      " 78%|███████▊  | 50/64 [04:00<01:03,  4.53s/it]\u001B[A\n",
      " 80%|███████▉  | 51/64 [04:05<00:58,  4.47s/it]\u001B[A\n",
      " 81%|████████▏ | 52/64 [04:09<00:53,  4.44s/it]\u001B[A\n",
      " 83%|████████▎ | 53/64 [04:14<00:49,  4.48s/it]\u001B[A\n",
      " 84%|████████▍ | 54/64 [04:18<00:45,  4.59s/it]\u001B[A\n",
      " 86%|████████▌ | 55/64 [04:23<00:41,  4.57s/it]\u001B[A\n",
      " 88%|████████▊ | 56/64 [04:27<00:35,  4.46s/it]\u001B[A\n",
      " 89%|████████▉ | 57/64 [04:32<00:31,  4.45s/it]\u001B[A\n",
      " 91%|█████████ | 58/64 [04:36<00:26,  4.37s/it]\u001B[A\n",
      " 92%|█████████▏| 59/64 [04:40<00:22,  4.47s/it]\u001B[A\n",
      " 94%|█████████▍| 60/64 [04:45<00:17,  4.40s/it]\u001B[A\n",
      " 95%|█████████▌| 61/64 [04:49<00:13,  4.49s/it]\u001B[A\n",
      " 97%|█████████▋| 62/64 [04:54<00:08,  4.44s/it]\u001B[A\n",
      " 98%|█████████▊| 63/64 [04:58<00:04,  4.46s/it]\u001B[A\n",
      "100%|██████████| 64/64 [05:03<00:00,  4.74s/it]\u001B[A\n",
      " 50%|█████     | 2/4 [10:26<10:23, 311.68s/it]\n",
      "  0%|          | 0/64 [00:00<?, ?it/s]\u001B[A\n",
      "  2%|▏         | 1/64 [00:04<04:28,  4.26s/it]\u001B[A\n",
      "  3%|▎         | 2/64 [00:08<04:29,  4.35s/it]\u001B[A\n",
      "  5%|▍         | 3/64 [00:13<04:30,  4.43s/it]\u001B[A\n",
      "  6%|▋         | 4/64 [00:17<04:21,  4.36s/it]\u001B[A\n",
      "  8%|▊         | 5/64 [00:21<04:16,  4.35s/it]\u001B[A\n",
      "  9%|▉         | 6/64 [00:26<04:15,  4.40s/it]\u001B[A\n",
      " 11%|█         | 7/64 [00:30<04:14,  4.46s/it]\u001B[A\n",
      " 12%|█▎        | 8/64 [00:35<04:10,  4.48s/it]\u001B[A\n",
      " 14%|█▍        | 9/64 [00:40<04:14,  4.64s/it]\u001B[A\n",
      " 16%|█▌        | 10/64 [00:45<04:12,  4.68s/it]\u001B[A\n",
      " 17%|█▋        | 11/64 [00:49<04:04,  4.62s/it]\u001B[A\n",
      " 19%|█▉        | 12/64 [00:54<03:57,  4.57s/it]\u001B[A\n",
      " 20%|██        | 13/64 [00:58<03:56,  4.64s/it]\u001B[A\n",
      " 22%|██▏       | 14/64 [01:03<03:48,  4.57s/it]\u001B[A\n",
      " 23%|██▎       | 15/64 [01:07<03:39,  4.47s/it]\u001B[A\n",
      " 25%|██▌       | 16/64 [01:12<03:35,  4.50s/it]\u001B[A\n",
      " 27%|██▋       | 17/64 [01:16<03:31,  4.50s/it]\u001B[A\n",
      " 28%|██▊       | 18/64 [01:20<03:23,  4.43s/it]\u001B[A\n",
      " 30%|██▉       | 19/64 [01:25<03:20,  4.45s/it]\u001B[A\n",
      " 31%|███▏      | 20/64 [01:29<03:14,  4.42s/it]\u001B[A\n",
      " 33%|███▎      | 21/64 [01:33<03:03,  4.27s/it]\u001B[A\n",
      " 34%|███▍      | 22/64 [01:38<03:03,  4.38s/it]\u001B[A\n",
      " 36%|███▌      | 23/64 [01:42<03:00,  4.40s/it]\u001B[A\n",
      " 38%|███▊      | 24/64 [01:46<02:54,  4.36s/it]\u001B[A\n",
      " 39%|███▉      | 25/64 [01:51<02:49,  4.36s/it]\u001B[A\n",
      " 41%|████      | 26/64 [01:56<02:50,  4.50s/it]\u001B[A\n",
      " 42%|████▏     | 27/64 [02:00<02:45,  4.47s/it]\u001B[A\n",
      " 44%|████▍     | 28/64 [02:05<02:42,  4.53s/it]\u001B[A\n",
      " 45%|████▌     | 29/64 [02:09<02:36,  4.47s/it]\u001B[A\n",
      " 47%|████▋     | 30/64 [02:14<02:32,  4.47s/it]\u001B[A\n",
      " 48%|████▊     | 31/64 [02:18<02:31,  4.60s/it]\u001B[A\n",
      " 50%|█████     | 32/64 [02:23<02:27,  4.62s/it]\u001B[A\n",
      " 52%|█████▏    | 33/64 [02:27<02:20,  4.54s/it]\u001B[A\n",
      " 53%|█████▎    | 34/64 [02:32<02:14,  4.48s/it]\u001B[A\n",
      " 55%|█████▍    | 35/64 [02:36<02:09,  4.45s/it]\u001B[A\n",
      " 56%|█████▋    | 36/64 [02:41<02:08,  4.58s/it]\u001B[A\n",
      " 58%|█████▊    | 37/64 [02:46<02:03,  4.57s/it]\u001B[A\n",
      " 59%|█████▉    | 38/64 [02:50<01:58,  4.55s/it]\u001B[A\n",
      " 61%|██████    | 39/64 [02:55<01:52,  4.51s/it]\u001B[A\n",
      " 62%|██████▎   | 40/64 [02:59<01:51,  4.63s/it]\u001B[A\n",
      " 64%|██████▍   | 41/64 [03:04<01:46,  4.64s/it]\u001B[A\n",
      " 66%|██████▌   | 42/64 [03:09<01:42,  4.66s/it]\u001B[A\n",
      " 67%|██████▋   | 43/64 [03:13<01:37,  4.64s/it]\u001B[A\n",
      " 69%|██████▉   | 44/64 [03:18<01:31,  4.56s/it]\u001B[A\n",
      " 70%|███████   | 45/64 [03:22<01:26,  4.55s/it]\u001B[A\n",
      " 72%|███████▏  | 46/64 [03:27<01:21,  4.51s/it]\u001B[A\n",
      " 73%|███████▎  | 47/64 [03:31<01:15,  4.42s/it]\u001B[A\n",
      " 75%|███████▌  | 48/64 [03:35<01:10,  4.40s/it]\u001B[A\n",
      " 77%|███████▋  | 49/64 [03:40<01:05,  4.39s/it]\u001B[A\n",
      " 78%|███████▊  | 50/64 [03:44<01:01,  4.42s/it]\u001B[A\n",
      " 80%|███████▉  | 51/64 [03:48<00:57,  4.39s/it]\u001B[A\n",
      " 81%|████████▏ | 52/64 [03:53<00:52,  4.39s/it]\u001B[A\n",
      " 83%|████████▎ | 53/64 [03:57<00:48,  4.37s/it]\u001B[A\n",
      " 84%|████████▍ | 54/64 [04:02<00:43,  4.37s/it]\u001B[A\n",
      " 86%|████████▌ | 55/64 [04:06<00:39,  4.38s/it]\u001B[A\n",
      " 88%|████████▊ | 56/64 [04:10<00:35,  4.41s/it]\u001B[A\n",
      " 89%|████████▉ | 57/64 [04:15<00:31,  4.48s/it]\u001B[A\n",
      " 91%|█████████ | 58/64 [04:20<00:26,  4.49s/it]\u001B[A\n",
      " 92%|█████████▏| 59/64 [04:24<00:22,  4.49s/it]\u001B[A\n",
      " 94%|█████████▍| 60/64 [04:28<00:17,  4.46s/it]\u001B[A\n",
      " 95%|█████████▌| 61/64 [04:33<00:13,  4.42s/it]\u001B[A\n",
      " 97%|█████████▋| 62/64 [04:37<00:08,  4.44s/it]\u001B[A\n",
      " 98%|█████████▊| 63/64 [04:41<00:04,  4.38s/it]\u001B[A\n",
      "100%|██████████| 64/64 [04:46<00:00,  4.48s/it]\u001B[A\n",
      " 75%|███████▌  | 3/4 [15:13<05:00, 300.31s/it]\n",
      "  0%|          | 0/8 [00:00<?, ?it/s]\u001B[A\n",
      " 12%|█▎        | 1/8 [00:04<00:30,  4.35s/it]\u001B[A\n",
      " 25%|██▌       | 2/8 [00:09<00:27,  4.59s/it]\u001B[A\n",
      " 38%|███▊      | 3/8 [00:13<00:22,  4.51s/it]\u001B[A\n",
      " 50%|█████     | 4/8 [00:17<00:17,  4.49s/it]\u001B[A\n",
      " 62%|██████▎   | 5/8 [00:22<00:13,  4.56s/it]\u001B[A\n",
      " 75%|███████▌  | 6/8 [00:26<00:08,  4.43s/it]\u001B[A\n",
      " 88%|████████▊ | 7/8 [00:31<00:04,  4.49s/it]\u001B[A\n",
      "100%|██████████| 8/8 [00:36<00:00,  4.52s/it]\u001B[A\n",
      "100%|██████████| 4/4 [15:49<00:00, 237.47s/it]\n"
     ]
    }
   ],
   "source": [
    "target_layer = model.conv6\n",
    "grad_maps = []\n",
    "\n",
    "for _, _, ids in tqdm(test_loader):\n",
    "    for _id in tqdm(ids.tolist()):\n",
    "        img_path = f\"data/PANNUKE/images/{_id}.png\"\n",
    "        grad_maps.append(gradcamplpl_mask(model, target_layer, img_path, cuda_device))\n",
    "    \n",
    "np.save(\"CAM_outputs/maps.npy\",grad_maps)"
   ],
   "metadata": {
    "collapsed": false,
    "ExecuteTime": {
     "end_time": "2024-09-15T16:59:44.789187200Z",
     "start_time": "2024-09-15T16:43:54.908397100Z"
    }
   },
   "id": "2b6518af5707564e",
   "execution_count": 11
  },
  {
   "cell_type": "code",
   "outputs": [],
   "source": [
    "seg_model = Unet()\n",
    "seg_train_loader, seg_val_loader, seg_test_loader = get_seg_data_loaders(\n",
    "    img_dir=\"data/PANNUKE/images\",\n",
    "    mask_dir=\"data/PANNUKE/masks\",\n",
    "    contiguous_ids_file=\"data/PANNUKE/labels/contiguous_ids.npy\",\n",
    "    batch_size=64,\n",
    "    val_split=0.2,\n",
    "    test_split=0.1\n",
    ")"
   ],
   "metadata": {
    "collapsed": false,
    "ExecuteTime": {
     "end_time": "2024-09-15T17:25:49.730456700Z",
     "start_time": "2024-09-15T17:25:49.626010800Z"
    }
   },
   "id": "d9b67926a72210ba",
   "execution_count": 3
  },
  {
   "cell_type": "code",
   "outputs": [
    {
     "name": "stderr",
     "output_type": "stream",
     "text": [
      "Training for epoch 0:   0%|          | 0/23 [00:22<?, ?it/s]\n"
     ]
    },
    {
     "ename": "OutOfMemoryError",
     "evalue": "CUDA out of memory. Tried to allocate 1024.00 MiB. GPU 0 has a total capacity of 6.00 GiB of which 0 bytes is free. Of the allocated memory 19.60 GiB is allocated by PyTorch, and 780.50 MiB is reserved by PyTorch but unallocated. If reserved but unallocated memory is large try setting PYTORCH_CUDA_ALLOC_CONF=expandable_segments:True to avoid fragmentation.  See documentation for Memory Management  (https://pytorch.org/docs/stable/notes/cuda.html#environment-variables)",
     "output_type": "error",
     "traceback": [
      "\u001B[1;31m---------------------------------------------------------------------------\u001B[0m",
      "\u001B[1;31mOutOfMemoryError\u001B[0m                          Traceback (most recent call last)",
      "Cell \u001B[1;32mIn[4], line 1\u001B[0m\n\u001B[1;32m----> 1\u001B[0m \u001B[43mtrain_seg_model\u001B[49m\u001B[43m(\u001B[49m\u001B[43mseg_model\u001B[49m\u001B[43m,\u001B[49m\u001B[43m \u001B[49m\u001B[43mseg_train_loader\u001B[49m\u001B[43m,\u001B[49m\u001B[43m \u001B[49m\u001B[43mseg_val_loader\u001B[49m\u001B[43m,\u001B[49m\u001B[43m \u001B[49m\u001B[43mcuda_device\u001B[49m\u001B[43m,\u001B[49m\u001B[43m \u001B[49m\u001B[43mlearning_rate\u001B[49m\u001B[38;5;241;43m=\u001B[39;49m\u001B[38;5;241;43m0.001\u001B[39;49m\u001B[43m)\u001B[49m\n",
      "File \u001B[1;32m~\\Drive\\work\\classes\\INF8605\\INF-8605\\architectures\\unet.py:116\u001B[0m, in \u001B[0;36mtrain_model\u001B[1;34m(model, train_loader, val_loader, cuda_device, model_save_path, learning_rate)\u001B[0m\n\u001B[0;32m    113\u001B[0m labels \u001B[38;5;241m=\u001B[39m labels\u001B[38;5;241m.\u001B[39mto(device)\n\u001B[0;32m    115\u001B[0m optimizer\u001B[38;5;241m.\u001B[39mzero_grad()  \u001B[38;5;66;03m# Zero the parameter gradients\u001B[39;00m\n\u001B[1;32m--> 116\u001B[0m outputs \u001B[38;5;241m=\u001B[39m \u001B[43mmodel\u001B[49m\u001B[43m(\u001B[49m\u001B[43minputs\u001B[49m\u001B[43m)\u001B[49m  \u001B[38;5;66;03m# Forward pass\u001B[39;00m\n\u001B[0;32m    117\u001B[0m loss \u001B[38;5;241m=\u001B[39m criterion(outputs, labels)  \u001B[38;5;66;03m# Compute loss\u001B[39;00m\n\u001B[0;32m    118\u001B[0m loss\u001B[38;5;241m.\u001B[39mbackward()  \u001B[38;5;66;03m# Backward pass\u001B[39;00m\n",
      "File \u001B[1;32m~\\PycharmProjects\\venvs\\venv311-INF8605\\Lib\\site-packages\\torch\\nn\\modules\\module.py:1553\u001B[0m, in \u001B[0;36mModule._wrapped_call_impl\u001B[1;34m(self, *args, **kwargs)\u001B[0m\n\u001B[0;32m   1551\u001B[0m     \u001B[38;5;28;01mreturn\u001B[39;00m \u001B[38;5;28mself\u001B[39m\u001B[38;5;241m.\u001B[39m_compiled_call_impl(\u001B[38;5;241m*\u001B[39margs, \u001B[38;5;241m*\u001B[39m\u001B[38;5;241m*\u001B[39mkwargs)  \u001B[38;5;66;03m# type: ignore[misc]\u001B[39;00m\n\u001B[0;32m   1552\u001B[0m \u001B[38;5;28;01melse\u001B[39;00m:\n\u001B[1;32m-> 1553\u001B[0m     \u001B[38;5;28;01mreturn\u001B[39;00m \u001B[38;5;28;43mself\u001B[39;49m\u001B[38;5;241;43m.\u001B[39;49m\u001B[43m_call_impl\u001B[49m\u001B[43m(\u001B[49m\u001B[38;5;241;43m*\u001B[39;49m\u001B[43margs\u001B[49m\u001B[43m,\u001B[49m\u001B[43m \u001B[49m\u001B[38;5;241;43m*\u001B[39;49m\u001B[38;5;241;43m*\u001B[39;49m\u001B[43mkwargs\u001B[49m\u001B[43m)\u001B[49m\n",
      "File \u001B[1;32m~\\PycharmProjects\\venvs\\venv311-INF8605\\Lib\\site-packages\\torch\\nn\\modules\\module.py:1562\u001B[0m, in \u001B[0;36mModule._call_impl\u001B[1;34m(self, *args, **kwargs)\u001B[0m\n\u001B[0;32m   1557\u001B[0m \u001B[38;5;66;03m# If we don't have any hooks, we want to skip the rest of the logic in\u001B[39;00m\n\u001B[0;32m   1558\u001B[0m \u001B[38;5;66;03m# this function, and just call forward.\u001B[39;00m\n\u001B[0;32m   1559\u001B[0m \u001B[38;5;28;01mif\u001B[39;00m \u001B[38;5;129;01mnot\u001B[39;00m (\u001B[38;5;28mself\u001B[39m\u001B[38;5;241m.\u001B[39m_backward_hooks \u001B[38;5;129;01mor\u001B[39;00m \u001B[38;5;28mself\u001B[39m\u001B[38;5;241m.\u001B[39m_backward_pre_hooks \u001B[38;5;129;01mor\u001B[39;00m \u001B[38;5;28mself\u001B[39m\u001B[38;5;241m.\u001B[39m_forward_hooks \u001B[38;5;129;01mor\u001B[39;00m \u001B[38;5;28mself\u001B[39m\u001B[38;5;241m.\u001B[39m_forward_pre_hooks\n\u001B[0;32m   1560\u001B[0m         \u001B[38;5;129;01mor\u001B[39;00m _global_backward_pre_hooks \u001B[38;5;129;01mor\u001B[39;00m _global_backward_hooks\n\u001B[0;32m   1561\u001B[0m         \u001B[38;5;129;01mor\u001B[39;00m _global_forward_hooks \u001B[38;5;129;01mor\u001B[39;00m _global_forward_pre_hooks):\n\u001B[1;32m-> 1562\u001B[0m     \u001B[38;5;28;01mreturn\u001B[39;00m \u001B[43mforward_call\u001B[49m\u001B[43m(\u001B[49m\u001B[38;5;241;43m*\u001B[39;49m\u001B[43margs\u001B[49m\u001B[43m,\u001B[49m\u001B[43m \u001B[49m\u001B[38;5;241;43m*\u001B[39;49m\u001B[38;5;241;43m*\u001B[39;49m\u001B[43mkwargs\u001B[49m\u001B[43m)\u001B[49m\n\u001B[0;32m   1564\u001B[0m \u001B[38;5;28;01mtry\u001B[39;00m:\n\u001B[0;32m   1565\u001B[0m     result \u001B[38;5;241m=\u001B[39m \u001B[38;5;28;01mNone\u001B[39;00m\n",
      "File \u001B[1;32m~\\Drive\\work\\classes\\INF8605\\INF-8605\\architectures\\unet.py:77\u001B[0m, in \u001B[0;36mUnet.forward\u001B[1;34m(self, x)\u001B[0m\n\u001B[0;32m     74\u001B[0m         x \u001B[38;5;241m=\u001B[39m TF\u001B[38;5;241m.\u001B[39mresize(x, size\u001B[38;5;241m=\u001B[39mskip_connection\u001B[38;5;241m.\u001B[39mshape[\u001B[38;5;241m2\u001B[39m:])\n\u001B[0;32m     76\u001B[0m     concat_skip \u001B[38;5;241m=\u001B[39m torch\u001B[38;5;241m.\u001B[39mcat((skip_connection, x), dim\u001B[38;5;241m=\u001B[39m\u001B[38;5;241m1\u001B[39m)\n\u001B[1;32m---> 77\u001B[0m     x \u001B[38;5;241m=\u001B[39m \u001B[38;5;28;43mself\u001B[39;49m\u001B[38;5;241;43m.\u001B[39;49m\u001B[43mups\u001B[49m\u001B[43m[\u001B[49m\u001B[43midx\u001B[49m\u001B[38;5;241;43m+\u001B[39;49m\u001B[38;5;241;43m1\u001B[39;49m\u001B[43m]\u001B[49m\u001B[43m(\u001B[49m\u001B[43mconcat_skip\u001B[49m\u001B[43m)\u001B[49m\n\u001B[0;32m     79\u001B[0m \u001B[38;5;28;01mreturn\u001B[39;00m \u001B[38;5;28mself\u001B[39m\u001B[38;5;241m.\u001B[39mfinal_conv(x)\n",
      "File \u001B[1;32m~\\PycharmProjects\\venvs\\venv311-INF8605\\Lib\\site-packages\\torch\\nn\\modules\\module.py:1553\u001B[0m, in \u001B[0;36mModule._wrapped_call_impl\u001B[1;34m(self, *args, **kwargs)\u001B[0m\n\u001B[0;32m   1551\u001B[0m     \u001B[38;5;28;01mreturn\u001B[39;00m \u001B[38;5;28mself\u001B[39m\u001B[38;5;241m.\u001B[39m_compiled_call_impl(\u001B[38;5;241m*\u001B[39margs, \u001B[38;5;241m*\u001B[39m\u001B[38;5;241m*\u001B[39mkwargs)  \u001B[38;5;66;03m# type: ignore[misc]\u001B[39;00m\n\u001B[0;32m   1552\u001B[0m \u001B[38;5;28;01melse\u001B[39;00m:\n\u001B[1;32m-> 1553\u001B[0m     \u001B[38;5;28;01mreturn\u001B[39;00m \u001B[38;5;28;43mself\u001B[39;49m\u001B[38;5;241;43m.\u001B[39;49m\u001B[43m_call_impl\u001B[49m\u001B[43m(\u001B[49m\u001B[38;5;241;43m*\u001B[39;49m\u001B[43margs\u001B[49m\u001B[43m,\u001B[49m\u001B[43m \u001B[49m\u001B[38;5;241;43m*\u001B[39;49m\u001B[38;5;241;43m*\u001B[39;49m\u001B[43mkwargs\u001B[49m\u001B[43m)\u001B[49m\n",
      "File \u001B[1;32m~\\PycharmProjects\\venvs\\venv311-INF8605\\Lib\\site-packages\\torch\\nn\\modules\\module.py:1562\u001B[0m, in \u001B[0;36mModule._call_impl\u001B[1;34m(self, *args, **kwargs)\u001B[0m\n\u001B[0;32m   1557\u001B[0m \u001B[38;5;66;03m# If we don't have any hooks, we want to skip the rest of the logic in\u001B[39;00m\n\u001B[0;32m   1558\u001B[0m \u001B[38;5;66;03m# this function, and just call forward.\u001B[39;00m\n\u001B[0;32m   1559\u001B[0m \u001B[38;5;28;01mif\u001B[39;00m \u001B[38;5;129;01mnot\u001B[39;00m (\u001B[38;5;28mself\u001B[39m\u001B[38;5;241m.\u001B[39m_backward_hooks \u001B[38;5;129;01mor\u001B[39;00m \u001B[38;5;28mself\u001B[39m\u001B[38;5;241m.\u001B[39m_backward_pre_hooks \u001B[38;5;129;01mor\u001B[39;00m \u001B[38;5;28mself\u001B[39m\u001B[38;5;241m.\u001B[39m_forward_hooks \u001B[38;5;129;01mor\u001B[39;00m \u001B[38;5;28mself\u001B[39m\u001B[38;5;241m.\u001B[39m_forward_pre_hooks\n\u001B[0;32m   1560\u001B[0m         \u001B[38;5;129;01mor\u001B[39;00m _global_backward_pre_hooks \u001B[38;5;129;01mor\u001B[39;00m _global_backward_hooks\n\u001B[0;32m   1561\u001B[0m         \u001B[38;5;129;01mor\u001B[39;00m _global_forward_hooks \u001B[38;5;129;01mor\u001B[39;00m _global_forward_pre_hooks):\n\u001B[1;32m-> 1562\u001B[0m     \u001B[38;5;28;01mreturn\u001B[39;00m \u001B[43mforward_call\u001B[49m\u001B[43m(\u001B[49m\u001B[38;5;241;43m*\u001B[39;49m\u001B[43margs\u001B[49m\u001B[43m,\u001B[49m\u001B[43m \u001B[49m\u001B[38;5;241;43m*\u001B[39;49m\u001B[38;5;241;43m*\u001B[39;49m\u001B[43mkwargs\u001B[49m\u001B[43m)\u001B[49m\n\u001B[0;32m   1564\u001B[0m \u001B[38;5;28;01mtry\u001B[39;00m:\n\u001B[0;32m   1565\u001B[0m     result \u001B[38;5;241m=\u001B[39m \u001B[38;5;28;01mNone\u001B[39;00m\n",
      "File \u001B[1;32m~\\Drive\\work\\classes\\INF8605\\INF-8605\\architectures\\unet.py:23\u001B[0m, in \u001B[0;36mDoubleConv.forward\u001B[1;34m(self, x)\u001B[0m\n\u001B[0;32m     22\u001B[0m \u001B[38;5;28;01mdef\u001B[39;00m \u001B[38;5;21mforward\u001B[39m(\u001B[38;5;28mself\u001B[39m, x):\n\u001B[1;32m---> 23\u001B[0m     \u001B[38;5;28;01mreturn\u001B[39;00m \u001B[38;5;28;43mself\u001B[39;49m\u001B[38;5;241;43m.\u001B[39;49m\u001B[43mconv\u001B[49m\u001B[43m(\u001B[49m\u001B[43mx\u001B[49m\u001B[43m)\u001B[49m\n",
      "File \u001B[1;32m~\\PycharmProjects\\venvs\\venv311-INF8605\\Lib\\site-packages\\torch\\nn\\modules\\module.py:1553\u001B[0m, in \u001B[0;36mModule._wrapped_call_impl\u001B[1;34m(self, *args, **kwargs)\u001B[0m\n\u001B[0;32m   1551\u001B[0m     \u001B[38;5;28;01mreturn\u001B[39;00m \u001B[38;5;28mself\u001B[39m\u001B[38;5;241m.\u001B[39m_compiled_call_impl(\u001B[38;5;241m*\u001B[39margs, \u001B[38;5;241m*\u001B[39m\u001B[38;5;241m*\u001B[39mkwargs)  \u001B[38;5;66;03m# type: ignore[misc]\u001B[39;00m\n\u001B[0;32m   1552\u001B[0m \u001B[38;5;28;01melse\u001B[39;00m:\n\u001B[1;32m-> 1553\u001B[0m     \u001B[38;5;28;01mreturn\u001B[39;00m \u001B[38;5;28;43mself\u001B[39;49m\u001B[38;5;241;43m.\u001B[39;49m\u001B[43m_call_impl\u001B[49m\u001B[43m(\u001B[49m\u001B[38;5;241;43m*\u001B[39;49m\u001B[43margs\u001B[49m\u001B[43m,\u001B[49m\u001B[43m \u001B[49m\u001B[38;5;241;43m*\u001B[39;49m\u001B[38;5;241;43m*\u001B[39;49m\u001B[43mkwargs\u001B[49m\u001B[43m)\u001B[49m\n",
      "File \u001B[1;32m~\\PycharmProjects\\venvs\\venv311-INF8605\\Lib\\site-packages\\torch\\nn\\modules\\module.py:1562\u001B[0m, in \u001B[0;36mModule._call_impl\u001B[1;34m(self, *args, **kwargs)\u001B[0m\n\u001B[0;32m   1557\u001B[0m \u001B[38;5;66;03m# If we don't have any hooks, we want to skip the rest of the logic in\u001B[39;00m\n\u001B[0;32m   1558\u001B[0m \u001B[38;5;66;03m# this function, and just call forward.\u001B[39;00m\n\u001B[0;32m   1559\u001B[0m \u001B[38;5;28;01mif\u001B[39;00m \u001B[38;5;129;01mnot\u001B[39;00m (\u001B[38;5;28mself\u001B[39m\u001B[38;5;241m.\u001B[39m_backward_hooks \u001B[38;5;129;01mor\u001B[39;00m \u001B[38;5;28mself\u001B[39m\u001B[38;5;241m.\u001B[39m_backward_pre_hooks \u001B[38;5;129;01mor\u001B[39;00m \u001B[38;5;28mself\u001B[39m\u001B[38;5;241m.\u001B[39m_forward_hooks \u001B[38;5;129;01mor\u001B[39;00m \u001B[38;5;28mself\u001B[39m\u001B[38;5;241m.\u001B[39m_forward_pre_hooks\n\u001B[0;32m   1560\u001B[0m         \u001B[38;5;129;01mor\u001B[39;00m _global_backward_pre_hooks \u001B[38;5;129;01mor\u001B[39;00m _global_backward_hooks\n\u001B[0;32m   1561\u001B[0m         \u001B[38;5;129;01mor\u001B[39;00m _global_forward_hooks \u001B[38;5;129;01mor\u001B[39;00m _global_forward_pre_hooks):\n\u001B[1;32m-> 1562\u001B[0m     \u001B[38;5;28;01mreturn\u001B[39;00m \u001B[43mforward_call\u001B[49m\u001B[43m(\u001B[49m\u001B[38;5;241;43m*\u001B[39;49m\u001B[43margs\u001B[49m\u001B[43m,\u001B[49m\u001B[43m \u001B[49m\u001B[38;5;241;43m*\u001B[39;49m\u001B[38;5;241;43m*\u001B[39;49m\u001B[43mkwargs\u001B[49m\u001B[43m)\u001B[49m\n\u001B[0;32m   1564\u001B[0m \u001B[38;5;28;01mtry\u001B[39;00m:\n\u001B[0;32m   1565\u001B[0m     result \u001B[38;5;241m=\u001B[39m \u001B[38;5;28;01mNone\u001B[39;00m\n",
      "File \u001B[1;32m~\\PycharmProjects\\venvs\\venv311-INF8605\\Lib\\site-packages\\torch\\nn\\modules\\container.py:219\u001B[0m, in \u001B[0;36mSequential.forward\u001B[1;34m(self, input)\u001B[0m\n\u001B[0;32m    217\u001B[0m \u001B[38;5;28;01mdef\u001B[39;00m \u001B[38;5;21mforward\u001B[39m(\u001B[38;5;28mself\u001B[39m, \u001B[38;5;28minput\u001B[39m):\n\u001B[0;32m    218\u001B[0m     \u001B[38;5;28;01mfor\u001B[39;00m module \u001B[38;5;129;01min\u001B[39;00m \u001B[38;5;28mself\u001B[39m:\n\u001B[1;32m--> 219\u001B[0m         \u001B[38;5;28minput\u001B[39m \u001B[38;5;241m=\u001B[39m \u001B[43mmodule\u001B[49m\u001B[43m(\u001B[49m\u001B[38;5;28;43minput\u001B[39;49m\u001B[43m)\u001B[49m\n\u001B[0;32m    220\u001B[0m     \u001B[38;5;28;01mreturn\u001B[39;00m \u001B[38;5;28minput\u001B[39m\n",
      "File \u001B[1;32m~\\PycharmProjects\\venvs\\venv311-INF8605\\Lib\\site-packages\\torch\\nn\\modules\\module.py:1553\u001B[0m, in \u001B[0;36mModule._wrapped_call_impl\u001B[1;34m(self, *args, **kwargs)\u001B[0m\n\u001B[0;32m   1551\u001B[0m     \u001B[38;5;28;01mreturn\u001B[39;00m \u001B[38;5;28mself\u001B[39m\u001B[38;5;241m.\u001B[39m_compiled_call_impl(\u001B[38;5;241m*\u001B[39margs, \u001B[38;5;241m*\u001B[39m\u001B[38;5;241m*\u001B[39mkwargs)  \u001B[38;5;66;03m# type: ignore[misc]\u001B[39;00m\n\u001B[0;32m   1552\u001B[0m \u001B[38;5;28;01melse\u001B[39;00m:\n\u001B[1;32m-> 1553\u001B[0m     \u001B[38;5;28;01mreturn\u001B[39;00m \u001B[38;5;28;43mself\u001B[39;49m\u001B[38;5;241;43m.\u001B[39;49m\u001B[43m_call_impl\u001B[49m\u001B[43m(\u001B[49m\u001B[38;5;241;43m*\u001B[39;49m\u001B[43margs\u001B[49m\u001B[43m,\u001B[49m\u001B[43m \u001B[49m\u001B[38;5;241;43m*\u001B[39;49m\u001B[38;5;241;43m*\u001B[39;49m\u001B[43mkwargs\u001B[49m\u001B[43m)\u001B[49m\n",
      "File \u001B[1;32m~\\PycharmProjects\\venvs\\venv311-INF8605\\Lib\\site-packages\\torch\\nn\\modules\\module.py:1562\u001B[0m, in \u001B[0;36mModule._call_impl\u001B[1;34m(self, *args, **kwargs)\u001B[0m\n\u001B[0;32m   1557\u001B[0m \u001B[38;5;66;03m# If we don't have any hooks, we want to skip the rest of the logic in\u001B[39;00m\n\u001B[0;32m   1558\u001B[0m \u001B[38;5;66;03m# this function, and just call forward.\u001B[39;00m\n\u001B[0;32m   1559\u001B[0m \u001B[38;5;28;01mif\u001B[39;00m \u001B[38;5;129;01mnot\u001B[39;00m (\u001B[38;5;28mself\u001B[39m\u001B[38;5;241m.\u001B[39m_backward_hooks \u001B[38;5;129;01mor\u001B[39;00m \u001B[38;5;28mself\u001B[39m\u001B[38;5;241m.\u001B[39m_backward_pre_hooks \u001B[38;5;129;01mor\u001B[39;00m \u001B[38;5;28mself\u001B[39m\u001B[38;5;241m.\u001B[39m_forward_hooks \u001B[38;5;129;01mor\u001B[39;00m \u001B[38;5;28mself\u001B[39m\u001B[38;5;241m.\u001B[39m_forward_pre_hooks\n\u001B[0;32m   1560\u001B[0m         \u001B[38;5;129;01mor\u001B[39;00m _global_backward_pre_hooks \u001B[38;5;129;01mor\u001B[39;00m _global_backward_hooks\n\u001B[0;32m   1561\u001B[0m         \u001B[38;5;129;01mor\u001B[39;00m _global_forward_hooks \u001B[38;5;129;01mor\u001B[39;00m _global_forward_pre_hooks):\n\u001B[1;32m-> 1562\u001B[0m     \u001B[38;5;28;01mreturn\u001B[39;00m \u001B[43mforward_call\u001B[49m\u001B[43m(\u001B[49m\u001B[38;5;241;43m*\u001B[39;49m\u001B[43margs\u001B[49m\u001B[43m,\u001B[49m\u001B[43m \u001B[49m\u001B[38;5;241;43m*\u001B[39;49m\u001B[38;5;241;43m*\u001B[39;49m\u001B[43mkwargs\u001B[49m\u001B[43m)\u001B[49m\n\u001B[0;32m   1564\u001B[0m \u001B[38;5;28;01mtry\u001B[39;00m:\n\u001B[0;32m   1565\u001B[0m     result \u001B[38;5;241m=\u001B[39m \u001B[38;5;28;01mNone\u001B[39;00m\n",
      "File \u001B[1;32m~\\PycharmProjects\\venvs\\venv311-INF8605\\Lib\\site-packages\\torch\\nn\\modules\\conv.py:458\u001B[0m, in \u001B[0;36mConv2d.forward\u001B[1;34m(self, input)\u001B[0m\n\u001B[0;32m    457\u001B[0m \u001B[38;5;28;01mdef\u001B[39;00m \u001B[38;5;21mforward\u001B[39m(\u001B[38;5;28mself\u001B[39m, \u001B[38;5;28minput\u001B[39m: Tensor) \u001B[38;5;241m-\u001B[39m\u001B[38;5;241m>\u001B[39m Tensor:\n\u001B[1;32m--> 458\u001B[0m     \u001B[38;5;28;01mreturn\u001B[39;00m \u001B[38;5;28;43mself\u001B[39;49m\u001B[38;5;241;43m.\u001B[39;49m\u001B[43m_conv_forward\u001B[49m\u001B[43m(\u001B[49m\u001B[38;5;28;43minput\u001B[39;49m\u001B[43m,\u001B[49m\u001B[43m \u001B[49m\u001B[38;5;28;43mself\u001B[39;49m\u001B[38;5;241;43m.\u001B[39;49m\u001B[43mweight\u001B[49m\u001B[43m,\u001B[49m\u001B[43m \u001B[49m\u001B[38;5;28;43mself\u001B[39;49m\u001B[38;5;241;43m.\u001B[39;49m\u001B[43mbias\u001B[49m\u001B[43m)\u001B[49m\n",
      "File \u001B[1;32m~\\PycharmProjects\\venvs\\venv311-INF8605\\Lib\\site-packages\\torch\\nn\\modules\\conv.py:454\u001B[0m, in \u001B[0;36mConv2d._conv_forward\u001B[1;34m(self, input, weight, bias)\u001B[0m\n\u001B[0;32m    450\u001B[0m \u001B[38;5;28;01mif\u001B[39;00m \u001B[38;5;28mself\u001B[39m\u001B[38;5;241m.\u001B[39mpadding_mode \u001B[38;5;241m!=\u001B[39m \u001B[38;5;124m'\u001B[39m\u001B[38;5;124mzeros\u001B[39m\u001B[38;5;124m'\u001B[39m:\n\u001B[0;32m    451\u001B[0m     \u001B[38;5;28;01mreturn\u001B[39;00m F\u001B[38;5;241m.\u001B[39mconv2d(F\u001B[38;5;241m.\u001B[39mpad(\u001B[38;5;28minput\u001B[39m, \u001B[38;5;28mself\u001B[39m\u001B[38;5;241m.\u001B[39m_reversed_padding_repeated_twice, mode\u001B[38;5;241m=\u001B[39m\u001B[38;5;28mself\u001B[39m\u001B[38;5;241m.\u001B[39mpadding_mode),\n\u001B[0;32m    452\u001B[0m                     weight, bias, \u001B[38;5;28mself\u001B[39m\u001B[38;5;241m.\u001B[39mstride,\n\u001B[0;32m    453\u001B[0m                     _pair(\u001B[38;5;241m0\u001B[39m), \u001B[38;5;28mself\u001B[39m\u001B[38;5;241m.\u001B[39mdilation, \u001B[38;5;28mself\u001B[39m\u001B[38;5;241m.\u001B[39mgroups)\n\u001B[1;32m--> 454\u001B[0m \u001B[38;5;28;01mreturn\u001B[39;00m \u001B[43mF\u001B[49m\u001B[38;5;241;43m.\u001B[39;49m\u001B[43mconv2d\u001B[49m\u001B[43m(\u001B[49m\u001B[38;5;28;43minput\u001B[39;49m\u001B[43m,\u001B[49m\u001B[43m \u001B[49m\u001B[43mweight\u001B[49m\u001B[43m,\u001B[49m\u001B[43m \u001B[49m\u001B[43mbias\u001B[49m\u001B[43m,\u001B[49m\u001B[43m \u001B[49m\u001B[38;5;28;43mself\u001B[39;49m\u001B[38;5;241;43m.\u001B[39;49m\u001B[43mstride\u001B[49m\u001B[43m,\u001B[49m\n\u001B[0;32m    455\u001B[0m \u001B[43m                \u001B[49m\u001B[38;5;28;43mself\u001B[39;49m\u001B[38;5;241;43m.\u001B[39;49m\u001B[43mpadding\u001B[49m\u001B[43m,\u001B[49m\u001B[43m \u001B[49m\u001B[38;5;28;43mself\u001B[39;49m\u001B[38;5;241;43m.\u001B[39;49m\u001B[43mdilation\u001B[49m\u001B[43m,\u001B[49m\u001B[43m \u001B[49m\u001B[38;5;28;43mself\u001B[39;49m\u001B[38;5;241;43m.\u001B[39;49m\u001B[43mgroups\u001B[49m\u001B[43m)\u001B[49m\n",
      "\u001B[1;31mOutOfMemoryError\u001B[0m: CUDA out of memory. Tried to allocate 1024.00 MiB. GPU 0 has a total capacity of 6.00 GiB of which 0 bytes is free. Of the allocated memory 19.60 GiB is allocated by PyTorch, and 780.50 MiB is reserved by PyTorch but unallocated. If reserved but unallocated memory is large try setting PYTORCH_CUDA_ALLOC_CONF=expandable_segments:True to avoid fragmentation.  See documentation for Memory Management  (https://pytorch.org/docs/stable/notes/cuda.html#environment-variables)"
     ]
    }
   ],
   "source": [
    "train_seg_model(seg_model, seg_train_loader, seg_val_loader, cuda_device, learning_rate=0.001)"
   ],
   "metadata": {
    "collapsed": false,
    "ExecuteTime": {
     "end_time": "2024-09-15T17:26:13.465619600Z",
     "start_time": "2024-09-15T17:25:49.913310300Z"
    }
   },
   "id": "9e195afaa52b458e",
   "execution_count": 4
  },
  {
   "cell_type": "code",
   "outputs": [],
   "source": [],
   "metadata": {
    "collapsed": false
   },
   "id": "6bc7769211585186"
  }
 ],
 "metadata": {
  "kernelspec": {
   "display_name": "Python 3",
   "language": "python",
   "name": "python3"
  },
  "language_info": {
   "codemirror_mode": {
    "name": "ipython",
    "version": 2
   },
   "file_extension": ".py",
   "mimetype": "text/x-python",
   "name": "python",
   "nbconvert_exporter": "python",
   "pygments_lexer": "ipython2",
   "version": "2.7.6"
  }
 },
 "nbformat": 4,
 "nbformat_minor": 5
}
